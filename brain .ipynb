{
 "cells": [
  {
   "cell_type": "raw",
   "id": "cee2588d",
   "metadata": {},
   "source": [
    "import splitfolders\n",
    "\n",
    "splitfolders.ratio(\"/Users/agustintumminello/Desktop/brian_tumor/Brain Tumor Data Set\", # The location of dataset\n",
    "                   output=\"/Users/agustintumminello/Desktop/brian_tumor/split_folders\", # The output location\n",
    "                   seed=42, # The number of seed\n",
    "                   ratio=(.7, .2, .1), # The ratio of splited dataset\n",
    "                   group_prefix=None, # If your dataset contains more than one file like \".jpg\", \".pdf\", etc\n",
    "                   move=False # If you choose to move, turn this into True\n",
    "                   )"
   ]
  },
  {
   "cell_type": "markdown",
   "id": "90f099d9",
   "metadata": {},
   "source": [
    "# -------------------"
   ]
  },
  {
   "cell_type": "code",
   "execution_count": 3,
   "id": "185eed94",
   "metadata": {},
   "outputs": [],
   "source": [
    "import torch\n",
    "# Setup device-agnostic code\n",
    "device = \"cuda\" if torch.cuda.is_available() else \"cpu\""
   ]
  },
  {
   "cell_type": "code",
   "execution_count": 4,
   "id": "e5fe4593",
   "metadata": {},
   "outputs": [],
   "source": [
    "train_path = \"/Users/agustintumminello/Desktop/brian_tumor/brain_tumor_folders/train\"\n",
    "test_path = \"/Users/agustintumminello/Desktop/brian_tumor/split_folders/test\""
   ]
  },
  {
   "cell_type": "markdown",
   "id": "15da2d18",
   "metadata": {},
   "source": [
    "# Transforming data"
   ]
  },
  {
   "cell_type": "code",
   "execution_count": 6,
   "id": "25974453",
   "metadata": {},
   "outputs": [],
   "source": [
    "from torch.utils.data import DataLoader\n",
    "from torchvision import datasets, transforms"
   ]
  },
  {
   "cell_type": "code",
   "execution_count": 7,
   "id": "216c37cc",
   "metadata": {},
   "outputs": [],
   "source": [
    "# Write transform for image\n",
    "data_transform = transforms.Compose([\n",
    "    # Resize the images to 64x64\n",
    "    transforms.Resize(size=(64, 64)),\n",
    "    # Flip the images randomly on the horizontal\n",
    "    transforms.RandomHorizontalFlip(p=0.5), # p = probability of flip, 0.5 = 50% chance\n",
    "    # Turn the image into a torch.Tensor\n",
    "    transforms.ToTensor() # this also converts all pixel values from 0 to 255 to be between 0.0 and 1.0 \n",
    "])"
   ]
  },
  {
   "cell_type": "markdown",
   "id": "87d72d9f",
   "metadata": {},
   "source": [
    "# Loading Image Data Using ImageFolder"
   ]
  },
  {
   "cell_type": "code",
   "execution_count": 8,
   "id": "5b4c95ba",
   "metadata": {},
   "outputs": [
    {
     "name": "stdout",
     "output_type": "stream",
     "text": [
      "Train data:\n",
      "Dataset ImageFolder\n",
      "    Number of datapoints: 3679\n",
      "    Root location: /Users/agustintumminello/Desktop/brian_tumor/brain_tumor_folders/train\n",
      "    StandardTransform\n",
      "Transform: Compose(\n",
      "               Resize(size=(64, 64), interpolation=bilinear, max_size=None, antialias=None)\n",
      "               RandomHorizontalFlip(p=0.5)\n",
      "               ToTensor()\n",
      "           )\n",
      "Test data:\n",
      "Dataset ImageFolder\n",
      "    Number of datapoints: 462\n",
      "    Root location: /Users/agustintumminello/Desktop/brian_tumor/split_folders/test\n",
      "    StandardTransform\n",
      "Transform: Compose(\n",
      "               Resize(size=(64, 64), interpolation=bilinear, max_size=None, antialias=None)\n",
      "               RandomHorizontalFlip(p=0.5)\n",
      "               ToTensor()\n",
      "           )\n"
     ]
    }
   ],
   "source": [
    "# Use ImageFolder to create dataset(s)\n",
    "from torchvision import datasets\n",
    "train_data = datasets.ImageFolder(root=train_path, # target folder of images\n",
    "                                  transform=data_transform, # transforms to perform on data (images)\n",
    "                                  target_transform=None) # transforms to perform on labels (if necessary)\n",
    "\n",
    "test_data = datasets.ImageFolder(root=test_path, \n",
    "                                 transform=data_transform)\n",
    "\n",
    "print(f\"Train data:\\n{train_data}\\nTest data:\\n{test_data}\")"
   ]
  },
  {
   "cell_type": "code",
   "execution_count": 9,
   "id": "b4ecedf8",
   "metadata": {},
   "outputs": [
    {
     "data": {
      "text/plain": [
       "['Brain Tumor', 'Healthy']"
      ]
     },
     "execution_count": 9,
     "metadata": {},
     "output_type": "execute_result"
    }
   ],
   "source": [
    "# Get class names as a list\n",
    "class_names = train_data.classes\n",
    "class_names"
   ]
  },
  {
   "cell_type": "code",
   "execution_count": 10,
   "id": "d5dc816c",
   "metadata": {},
   "outputs": [
    {
     "data": {
      "text/plain": [
       "{'Brain Tumor': 0, 'Healthy': 1}"
      ]
     },
     "execution_count": 10,
     "metadata": {},
     "output_type": "execute_result"
    }
   ],
   "source": [
    "# Can also get class names as a dict\n",
    "class_dict = train_data.class_to_idx\n",
    "class_dict"
   ]
  },
  {
   "cell_type": "code",
   "execution_count": 12,
   "id": "65441378",
   "metadata": {},
   "outputs": [
    {
     "data": {
      "text/plain": [
       "(<torch.utils.data.dataloader.DataLoader at 0x10993fbb0>,\n",
       " <torch.utils.data.dataloader.DataLoader at 0x109962f40>)"
      ]
     },
     "execution_count": 12,
     "metadata": {},
     "output_type": "execute_result"
    }
   ],
   "source": [
    "# Turn train and test Datasets into DataLoaders\n",
    "from torch.utils.data import DataLoader\n",
    "train_dataloader = DataLoader(dataset=train_data, \n",
    "                              batch_size=1, # how many samples per batch?\n",
    "                              num_workers=1, # how many subprocesses to use for data loading? (higher = more)\n",
    "                              shuffle=True) # shuffle the data?\n",
    "\n",
    "test_dataloader = DataLoader(dataset=test_data, \n",
    "                             batch_size=1, \n",
    "                             num_workers=1, \n",
    "                             shuffle=False) # don't usually need to shuffle testing data\n",
    "\n",
    "train_dataloader, test_dataloader"
   ]
  },
  {
   "cell_type": "markdown",
   "id": "4426ab1c",
   "metadata": {},
   "source": [
    "# Model "
   ]
  },
  {
   "cell_type": "markdown",
   "id": "1f9d9308",
   "metadata": {},
   "source": [
    "# Create TinyVGG model class"
   ]
  },
  {
   "cell_type": "code",
   "execution_count": 21,
   "id": "096c256e",
   "metadata": {},
   "outputs": [
    {
     "data": {
      "text/plain": [
       "TinyVGG(\n",
       "  (conv_block_1): Sequential(\n",
       "    (0): Conv2d(3, 10, kernel_size=(3, 3), stride=(1, 1), padding=(1, 1))\n",
       "    (1): ReLU()\n",
       "    (2): Conv2d(10, 10, kernel_size=(3, 3), stride=(1, 1), padding=(1, 1))\n",
       "    (3): ReLU()\n",
       "    (4): MaxPool2d(kernel_size=2, stride=2, padding=0, dilation=1, ceil_mode=False)\n",
       "  )\n",
       "  (conv_block_2): Sequential(\n",
       "    (0): Conv2d(10, 10, kernel_size=(3, 3), stride=(1, 1), padding=(1, 1))\n",
       "    (1): ReLU()\n",
       "    (2): Conv2d(10, 10, kernel_size=(3, 3), stride=(1, 1), padding=(1, 1))\n",
       "    (3): ReLU()\n",
       "    (4): MaxPool2d(kernel_size=2, stride=2, padding=0, dilation=1, ceil_mode=False)\n",
       "  )\n",
       "  (classifier): Sequential(\n",
       "    (0): Flatten(start_dim=1, end_dim=-1)\n",
       "    (1): Linear(in_features=2560, out_features=2, bias=True)\n",
       "  )\n",
       ")"
      ]
     },
     "execution_count": 21,
     "metadata": {},
     "output_type": "execute_result"
    }
   ],
   "source": [
    "import torch.nn as nn\n",
    "\n",
    "\n",
    "class TinyVGG(nn.Module):\n",
    "    \"\"\"\n",
    "    Model architecture copying TinyVGG from: \n",
    "    https://poloclub.github.io/cnn-explainer/\n",
    "    \"\"\"\n",
    "    def __init__(self, input_shape: int, hidden_units: int, output_shape: int) -> None:\n",
    "        super().__init__()\n",
    "        self.conv_block_1 = nn.Sequential(\n",
    "            nn.Conv2d(in_channels=input_shape, \n",
    "                      out_channels=hidden_units, \n",
    "                      kernel_size=3, # how big is the square that's going over the image?\n",
    "                      stride=1, # default\n",
    "                      padding=1), # options = \"valid\" (no padding) or \"same\" (output has same shape as input) or int for specific number \n",
    "            nn.ReLU(),\n",
    "            nn.Conv2d(in_channels=hidden_units, \n",
    "                      out_channels=hidden_units,\n",
    "                      kernel_size=3,\n",
    "                      stride=1,\n",
    "                      padding=1),\n",
    "            nn.ReLU(),\n",
    "            nn.MaxPool2d(kernel_size=2,\n",
    "                         stride=2) # default stride value is same as kernel_size\n",
    "        )\n",
    "        self.conv_block_2 = nn.Sequential(\n",
    "            nn.Conv2d(hidden_units, hidden_units, kernel_size=3, padding=1),\n",
    "            nn.ReLU(),\n",
    "            nn.Conv2d(hidden_units, hidden_units, kernel_size=3, padding=1),\n",
    "            nn.ReLU(),\n",
    "            nn.MaxPool2d(2)\n",
    "        )\n",
    "        self.classifier = nn.Sequential(\n",
    "            nn.Flatten(),\n",
    "            # Where did this in_features shape come from? \n",
    "            # It's because each layer of our network compresses and changes the shape of our inputs data.\n",
    "            nn.Linear(in_features=hidden_units*16*16,\n",
    "                      out_features=output_shape)\n",
    "        )\n",
    "    \n",
    "    def forward(self, x: torch.Tensor):\n",
    "        x = self.conv_block_1(x)\n",
    "        # print(x.shape)\n",
    "        x = self.conv_block_2(x)\n",
    "        # print(x.shape)\n",
    "        x = self.classifier(x)\n",
    "        # print(x.shape)\n",
    "        return x\n",
    "        # return self.classifier(self.conv_block_2(self.conv_block_1(x))) # <- leverage the benefits of operator fusion\n",
    "\n",
    "torch.manual_seed(42)\n",
    "model_0 = TinyVGG(input_shape=3, # number of color channels (3 for RGB) \n",
    "                  hidden_units=10, \n",
    "                  output_shape=len(train_data.classes)).to(device)\n",
    "model_0"
   ]
  },
  {
   "cell_type": "markdown",
   "id": "4223275f",
   "metadata": {},
   "source": [
    "# Create train & test loop functions"
   ]
  },
  {
   "cell_type": "code",
   "execution_count": 22,
   "id": "b185a8b1",
   "metadata": {},
   "outputs": [],
   "source": [
    "def train_step(model: torch.nn.Module, \n",
    "               dataloader: torch.utils.data.DataLoader, \n",
    "               loss_fn: torch.nn.Module, \n",
    "               optimizer: torch.optim.Optimizer):\n",
    "    # Put model in train mode\n",
    "    model.train()\n",
    "    \n",
    "    # Setup train loss and train accuracy values\n",
    "    train_loss, train_acc = 0, 0\n",
    "    \n",
    "    # Loop through data loader data batches\n",
    "    for batch, (X, y) in enumerate(dataloader):\n",
    "        # Send data to target device\n",
    "        X, y = X.to(device), y.to(device)\n",
    "\n",
    "        # 1. Forward pass\n",
    "        y_pred = model(X)\n",
    "\n",
    "        # 2. Calculate  and accumulate loss\n",
    "        loss = loss_fn(y_pred, y)\n",
    "        train_loss += loss.item() \n",
    "\n",
    "        # 3. Optimizer zero grad\n",
    "        optimizer.zero_grad()\n",
    "\n",
    "        # 4. Loss backward\n",
    "        loss.backward()\n",
    "\n",
    "        # 5. Optimizer step\n",
    "        optimizer.step()\n",
    "\n",
    "        # Calculate and accumulate accuracy metric across all batches\n",
    "        y_pred_class = torch.argmax(torch.softmax(y_pred, dim=1), dim=1)\n",
    "        train_acc += (y_pred_class == y).sum().item()/len(y_pred)\n",
    "\n",
    "    # Adjust metrics to get average loss and accuracy per batch \n",
    "    train_loss = train_loss / len(dataloader)\n",
    "    train_acc = train_acc / len(dataloader)\n",
    "    return train_loss, train_acc"
   ]
  },
  {
   "cell_type": "code",
   "execution_count": 23,
   "id": "ebd7a772",
   "metadata": {},
   "outputs": [],
   "source": [
    "def test_step(model: torch.nn.Module, \n",
    "              dataloader: torch.utils.data.DataLoader, \n",
    "              loss_fn: torch.nn.Module):\n",
    "    # Put model in eval mode\n",
    "    model.eval() \n",
    "    \n",
    "    # Setup test loss and test accuracy values\n",
    "    test_loss, test_acc = 0, 0\n",
    "    \n",
    "    # Turn on inference context manager\n",
    "    with torch.inference_mode():\n",
    "        # Loop through DataLoader batches\n",
    "        for batch, (X, y) in enumerate(dataloader):\n",
    "            # Send data to target device\n",
    "            X, y = X.to(device), y.to(device)\n",
    "    \n",
    "            # 1. Forward pass\n",
    "            test_pred_logits = model(X)\n",
    "\n",
    "            # 2. Calculate and accumulate loss\n",
    "            loss = loss_fn(test_pred_logits, y)\n",
    "            test_loss += loss.item()\n",
    "            \n",
    "            # Calculate and accumulate accuracy\n",
    "            test_pred_labels = test_pred_logits.argmax(dim=1)\n",
    "            test_acc += ((test_pred_labels == y).sum().item()/len(test_pred_labels))\n",
    "            \n",
    "    # Adjust metrics to get average loss and accuracy per batch \n",
    "    test_loss = test_loss / len(dataloader)\n",
    "    test_acc = test_acc / len(dataloader)\n",
    "    return test_loss, test_acc"
   ]
  },
  {
   "cell_type": "markdown",
   "id": "3da17f3f",
   "metadata": {},
   "source": [
    "# Creating a train() function to combine train_step() and test_step()"
   ]
  },
  {
   "cell_type": "code",
   "execution_count": 24,
   "id": "b2f04281",
   "metadata": {},
   "outputs": [],
   "source": [
    "from tqdm.auto import tqdm\n",
    "\n",
    "# 1. Take in various parameters required for training and test steps\n",
    "def train(model: torch.nn.Module, \n",
    "          train_dataloader: torch.utils.data.DataLoader, \n",
    "          test_dataloader: torch.utils.data.DataLoader, \n",
    "          optimizer: torch.optim.Optimizer,\n",
    "          loss_fn: torch.nn.Module = nn.CrossEntropyLoss(),\n",
    "          epochs: int = 5):\n",
    "    \n",
    "    # 2. Create empty results dictionary\n",
    "    results = {\"train_loss\": [],\n",
    "        \"train_acc\": [],\n",
    "        \"test_loss\": [],\n",
    "        \"test_acc\": []\n",
    "    }\n",
    "    \n",
    "    # 3. Loop through training and testing steps for a number of epochs\n",
    "    for epoch in tqdm(range(epochs)):\n",
    "        train_loss, train_acc = train_step(model=model,\n",
    "                                           dataloader=train_dataloader,\n",
    "                                           loss_fn=loss_fn,\n",
    "                                           optimizer=optimizer)\n",
    "        test_loss, test_acc = test_step(model=model,\n",
    "            dataloader=test_dataloader,\n",
    "            loss_fn=loss_fn)\n",
    "        \n",
    "        # 4. Print out what's happening\n",
    "        print(\n",
    "            f\"Epoch: {epoch+1} | \"\n",
    "            f\"train_loss: {train_loss:.4f} | \"\n",
    "            f\"train_acc: {train_acc:.4f} | \"\n",
    "            f\"test_loss: {test_loss:.4f} | \"\n",
    "            f\"test_acc: {test_acc:.4f}\"\n",
    "        )\n",
    "\n",
    "        # 5. Update results dictionary\n",
    "        results[\"train_loss\"].append(train_loss)\n",
    "        results[\"train_acc\"].append(train_acc)\n",
    "        results[\"test_loss\"].append(test_loss)\n",
    "        results[\"test_acc\"].append(test_acc)\n",
    "\n",
    "    # 6. Return the filled results at the end of the epochs\n",
    "    return results"
   ]
  },
  {
   "cell_type": "markdown",
   "id": "11addc6a",
   "metadata": {},
   "source": [
    "# Train and Evaluate Model 0"
   ]
  },
  {
   "cell_type": "code",
   "execution_count": 26,
   "id": "0271c81d",
   "metadata": {},
   "outputs": [
    {
     "data": {
      "application/vnd.jupyter.widget-view+json": {
       "model_id": "c5c9fdea9d004cf189ddcccd35e6d36a",
       "version_major": 2,
       "version_minor": 0
      },
      "text/plain": [
       "  0%|          | 0/50 [00:00<?, ?it/s]"
      ]
     },
     "metadata": {},
     "output_type": "display_data"
    },
    {
     "name": "stderr",
     "output_type": "stream",
     "text": [
      "[W NNPACK.cpp:53] Could not initialize NNPACK! Reason: Unsupported hardware.\n"
     ]
    },
    {
     "name": "stdout",
     "output_type": "stream",
     "text": [
      "Epoch: 1 | train_loss: 0.6916 | train_acc: 0.5409 | test_loss: 0.6891 | test_acc: 0.5455\n",
      "Epoch: 2 | train_loss: 0.6655 | train_acc: 0.5915 | test_loss: 0.5624 | test_acc: 0.7424\n",
      "Epoch: 3 | train_loss: 0.4301 | train_acc: 0.8124 | test_loss: 0.3918 | test_acc: 0.8377\n",
      "Epoch: 4 | train_loss: 0.3153 | train_acc: 0.8652 | test_loss: 0.3053 | test_acc: 0.8680\n",
      "Epoch: 5 | train_loss: 0.2485 | train_acc: 0.9030 | test_loss: 0.2758 | test_acc: 0.8961\n",
      "Epoch: 6 | train_loss: 0.2102 | train_acc: 0.9272 | test_loss: 0.1798 | test_acc: 0.9372\n",
      "Epoch: 7 | train_loss: 0.1655 | train_acc: 0.9394 | test_loss: 0.1619 | test_acc: 0.9437\n",
      "Epoch: 8 | train_loss: 0.1425 | train_acc: 0.9484 | test_loss: 0.2057 | test_acc: 0.9329\n",
      "Epoch: 9 | train_loss: 0.1247 | train_acc: 0.9581 | test_loss: 0.1959 | test_acc: 0.9416\n",
      "Epoch: 10 | train_loss: 0.1085 | train_acc: 0.9633 | test_loss: 0.1310 | test_acc: 0.9502\n",
      "Epoch: 11 | train_loss: 0.1017 | train_acc: 0.9660 | test_loss: 0.1672 | test_acc: 0.9545\n",
      "Epoch: 12 | train_loss: 0.1009 | train_acc: 0.9630 | test_loss: 0.1613 | test_acc: 0.9437\n",
      "Epoch: 13 | train_loss: 0.0771 | train_acc: 0.9742 | test_loss: 0.1297 | test_acc: 0.9502\n",
      "Epoch: 14 | train_loss: 0.0721 | train_acc: 0.9744 | test_loss: 0.1681 | test_acc: 0.9481\n",
      "Epoch: 15 | train_loss: 0.0665 | train_acc: 0.9766 | test_loss: 0.1393 | test_acc: 0.9567\n",
      "Epoch: 16 | train_loss: 0.0625 | train_acc: 0.9769 | test_loss: 0.1906 | test_acc: 0.9502\n",
      "Epoch: 17 | train_loss: 0.0626 | train_acc: 0.9796 | test_loss: 0.1438 | test_acc: 0.9567\n",
      "Epoch: 18 | train_loss: 0.0532 | train_acc: 0.9810 | test_loss: 0.1505 | test_acc: 0.9567\n",
      "Epoch: 19 | train_loss: 0.0558 | train_acc: 0.9810 | test_loss: 0.1854 | test_acc: 0.9502\n",
      "Epoch: 20 | train_loss: 0.0508 | train_acc: 0.9826 | test_loss: 0.1643 | test_acc: 0.9524\n",
      "Epoch: 21 | train_loss: 0.0574 | train_acc: 0.9793 | test_loss: 0.1453 | test_acc: 0.9589\n",
      "Epoch: 22 | train_loss: 0.0458 | train_acc: 0.9831 | test_loss: 0.1326 | test_acc: 0.9610\n",
      "Epoch: 23 | train_loss: 0.0432 | train_acc: 0.9851 | test_loss: 0.1184 | test_acc: 0.9697\n",
      "Epoch: 24 | train_loss: 0.0447 | train_acc: 0.9859 | test_loss: 0.2224 | test_acc: 0.9697\n",
      "Epoch: 25 | train_loss: 0.0400 | train_acc: 0.9861 | test_loss: 0.4334 | test_acc: 0.9394\n",
      "Epoch: 26 | train_loss: 0.0531 | train_acc: 0.9848 | test_loss: 0.1349 | test_acc: 0.9632\n",
      "Epoch: 27 | train_loss: 0.0467 | train_acc: 0.9851 | test_loss: 0.2099 | test_acc: 0.9675\n",
      "Epoch: 28 | train_loss: 0.0424 | train_acc: 0.9872 | test_loss: 0.2417 | test_acc: 0.9567\n",
      "Epoch: 29 | train_loss: 0.0394 | train_acc: 0.9875 | test_loss: 0.3366 | test_acc: 0.9242\n",
      "Epoch: 30 | train_loss: 0.0478 | train_acc: 0.9872 | test_loss: 0.2463 | test_acc: 0.9632\n",
      "Epoch: 31 | train_loss: 0.0497 | train_acc: 0.9851 | test_loss: 0.2512 | test_acc: 0.9481\n",
      "Epoch: 32 | train_loss: 0.0383 | train_acc: 0.9883 | test_loss: 0.2707 | test_acc: 0.9502\n",
      "Epoch: 33 | train_loss: 0.0452 | train_acc: 0.9851 | test_loss: 0.2622 | test_acc: 0.9307\n",
      "Epoch: 34 | train_loss: 0.0390 | train_acc: 0.9878 | test_loss: 0.2389 | test_acc: 0.9545\n",
      "Epoch: 35 | train_loss: 0.0317 | train_acc: 0.9894 | test_loss: 0.4505 | test_acc: 0.9394\n",
      "Epoch: 36 | train_loss: 0.0493 | train_acc: 0.9878 | test_loss: 0.2432 | test_acc: 0.9762\n",
      "Epoch: 37 | train_loss: 0.0529 | train_acc: 0.9853 | test_loss: 0.2888 | test_acc: 0.9481\n",
      "Epoch: 38 | train_loss: 0.0392 | train_acc: 0.9880 | test_loss: 0.2966 | test_acc: 0.9567\n",
      "Epoch: 39 | train_loss: 0.0377 | train_acc: 0.9891 | test_loss: 0.3687 | test_acc: 0.9567\n",
      "Epoch: 40 | train_loss: 0.0335 | train_acc: 0.9894 | test_loss: 0.2996 | test_acc: 0.9459\n",
      "Epoch: 41 | train_loss: 0.0472 | train_acc: 0.9867 | test_loss: 0.1968 | test_acc: 0.9610\n",
      "Epoch: 42 | train_loss: 0.0378 | train_acc: 0.9897 | test_loss: 0.2875 | test_acc: 0.9394\n",
      "Epoch: 43 | train_loss: 0.0600 | train_acc: 0.9834 | test_loss: 0.2580 | test_acc: 0.9502\n",
      "Epoch: 44 | train_loss: 0.0274 | train_acc: 0.9913 | test_loss: 0.2141 | test_acc: 0.9697\n",
      "Epoch: 45 | train_loss: 0.0305 | train_acc: 0.9908 | test_loss: 0.5127 | test_acc: 0.9437\n",
      "Epoch: 46 | train_loss: 0.0582 | train_acc: 0.9853 | test_loss: 0.2882 | test_acc: 0.9610\n",
      "Epoch: 47 | train_loss: 0.0318 | train_acc: 0.9908 | test_loss: 0.2542 | test_acc: 0.9675\n",
      "Epoch: 48 | train_loss: 0.0366 | train_acc: 0.9910 | test_loss: 0.2305 | test_acc: 0.9654\n",
      "Epoch: 49 | train_loss: 0.0369 | train_acc: 0.9886 | test_loss: 0.3887 | test_acc: 0.9589\n",
      "Epoch: 50 | train_loss: 0.0520 | train_acc: 0.9883 | test_loss: 0.2028 | test_acc: 0.9762\n",
      "Total training time: 2833.155 seconds\n"
     ]
    }
   ],
   "source": [
    "# Set random seeds\n",
    "torch.manual_seed(42) \n",
    "torch.cuda.manual_seed(42)\n",
    "\n",
    "# Set number of epochs\n",
    "NUM_EPOCHS = 50\n",
    "\n",
    "# Recreate an instance of TinyVGG\n",
    "model_0 = TinyVGG(input_shape=3, # number of color channels (3 for RGB) \n",
    "                  hidden_units=10, \n",
    "                  output_shape=len(train_data.classes)).to(device)\n",
    "\n",
    "# Setup loss function and optimizer\n",
    "loss_fn = nn.CrossEntropyLoss()\n",
    "optimizer = torch.optim.Adam(params=model_0.parameters(), lr=0.001)\n",
    "\n",
    "# Start the timer\n",
    "from timeit import default_timer as timer \n",
    "start_time = timer()\n",
    "\n",
    "# Train model_0 \n",
    "model_0_results = train(model=model_0, \n",
    "                        train_dataloader=train_dataloader,\n",
    "                        test_dataloader=test_dataloader,\n",
    "                        optimizer=optimizer,\n",
    "                        loss_fn=loss_fn, \n",
    "                        epochs=NUM_EPOCHS)\n",
    "\n",
    "# End the timer and print out how long it took\n",
    "end_time = timer()\n",
    "print(f\"Total training time: {end_time-start_time:.3f} seconds\")"
   ]
  },
  {
   "cell_type": "markdown",
   "id": "9ce8dc2b",
   "metadata": {},
   "source": [
    "# Plot the loss curves of Model"
   ]
  },
  {
   "cell_type": "code",
   "execution_count": 27,
   "id": "dabd87d8",
   "metadata": {},
   "outputs": [],
   "source": [
    "def plot_loss_curves(results: Dict[str, List[float]]):\n",
    "    \"\"\"Plots training curves of a results dictionary.\n",
    "\n",
    "    Args:\n",
    "        results (dict): dictionary containing list of values, e.g.\n",
    "            {\"train_loss\": [...],\n",
    "             \"train_acc\": [...],\n",
    "             \"test_loss\": [...],\n",
    "             \"test_acc\": [...]}\n",
    "    \"\"\"\n",
    "    \n",
    "    # Get the loss values of the results dictionary (training and test)\n",
    "    loss = results['train_loss']\n",
    "    test_loss = results['test_loss']\n",
    "\n",
    "    # Get the accuracy values of the results dictionary (training and test)\n",
    "    accuracy = results['train_acc']\n",
    "    test_accuracy = results['test_acc']\n",
    "\n",
    "    # Figure out how many epochs there were\n",
    "    epochs = range(len(results['train_loss']))\n",
    "\n",
    "    # Setup a plot \n",
    "    plt.figure(figsize=(15, 7))\n",
    "\n",
    "    # Plot loss\n",
    "    plt.subplot(1, 2, 1)\n",
    "    plt.plot(epochs, loss, label='train_loss')\n",
    "    plt.plot(epochs, test_loss, label='test_loss')\n",
    "    plt.title('Loss')\n",
    "    plt.xlabel('Epochs')\n",
    "    plt.legend()\n",
    "\n",
    "    # Plot accuracy\n",
    "    plt.subplot(1, 2, 2)\n",
    "    plt.plot(epochs, accuracy, label='train_accuracy')\n",
    "    plt.plot(epochs, test_accuracy, label='test_accuracy')\n",
    "    plt.title('Accuracy')\n",
    "    plt.xlabel('Epochs')\n",
    "    plt.legend();"
   ]
  },
  {
   "cell_type": "code",
   "execution_count": 28,
   "id": "78d44d46",
   "metadata": {},
   "outputs": [
    {
     "data": {
      "image/png": "[encoded data removed]",
      "text/plain": [
       "<Figure size 1080x504 with 2 Axes>"
      ]
     },
     "metadata": {
      "needs_background": "light"
     },
     "output_type": "display_data"
    }
   ],
   "source": [
    "plot_loss_curves(model_0_results)"
   ]
  },
  {
   "cell_type": "markdown",
   "id": "ccd4b81b",
   "metadata": {},
   "source": [
    "# 6 epochs is the best number, after this the model starts to overfitt"
   ]
  }
 ],
 "metadata": {
  "kernelspec": {
   "display_name": "Python 3 (ipykernel)",
   "language": "python",
   "name": "python3"
  },
  "language_info": {
   "codemirror_mode": {
    "name": "ipython",
    "version": 3
   },
   "file_extension": ".py",
   "mimetype": "text/x-python",
   "name": "python",
   "nbconvert_exporter": "python",
   "pygments_lexer": "ipython3",
   "version": "3.9.7"
  }
 },
 "nbformat": 4,
 "nbformat_minor": 5
}
